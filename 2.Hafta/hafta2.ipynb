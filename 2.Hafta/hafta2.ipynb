{
 "cells": [
  {
   "cell_type": "code",
   "execution_count": 1,
   "id": "67ae4d9e-ad96-4312-9f96-b269861d1615",
   "metadata": {},
   "outputs": [
    {
     "name": "stdin",
     "output_type": "stream",
     "text": [
      "Bir Sayı Giriniz:  5\n"
     ]
    },
    {
     "name": "stdout",
     "output_type": "stream",
     "text": [
      "Girilen Sayı Pozitif ve Tektir.\n"
     ]
    }
   ],
   "source": [
    "# 1 - Sayı Analizi\n",
    "\n",
    "sayi = int(input(\"Bir Sayı Giriniz: \"))\n",
    "\n",
    "if sayi > 0:\n",
    "    if sayi%2==0:\n",
    "        print(\"Girilen Sayı Pozitif ve Çifttir.\")\n",
    "    else:\n",
    "        print(\"Girilen Sayı Pozitif ve Tektir.\")\n",
    "elif sayi <0:\n",
    "    if sayi%2==0:\n",
    "        print(\"Girilen Sayı Negatif ve Çiftir .\")\n",
    "    else:\n",
    "        print(\"Girilen Sayı Negatif ve Tektir.\")\n",
    "else:\n",
    "    print(\"Girilen Sayı 0'a eşittir.\")"
   ]
  },
  {
   "cell_type": "code",
   "execution_count": 2,
   "id": "31a3c044-3fad-4683-b3a4-28f954627161",
   "metadata": {},
   "outputs": [
    {
     "name": "stdin",
     "output_type": "stream",
     "text": [
      "Lütfen Bir Kelime Giriniz:  Klonlamak\n"
     ]
    },
    {
     "name": "stdout",
     "output_type": "stream",
     "text": [
      "[{'harf': 'K', 'adet': 2}, {'harf': 'L', 'adet': 2}, {'harf': 'O', 'adet': 1}, {'harf': 'N', 'adet': 1}, {'harf': 'A', 'adet': 2}, {'harf': 'M', 'adet': 1}]\n"
     ]
    }
   ],
   "source": [
    "# 2 - Harf Frekansı (String)\n",
    "\n",
    "kelime = str(input(\"Lütfen Bir Kelime Giriniz: \"))\n",
    "kelime = kelime.upper()\n",
    "\n",
    "sozluk = {}\n",
    "\n",
    "for harf in kelime:\n",
    "    if harf.isalpha():\n",
    "        if harf in sozluk:\n",
    "            sozluk[harf] += 1\n",
    "        else:\n",
    "            sozluk[harf] = 1\n",
    "\n",
    "harfFrekans = [{\"harf\": h, \"adet\": a} for h, a in sozluk.items()]\n",
    "\n",
    "print(harfFrekans)"
   ]
  },
  {
   "cell_type": "code",
   "execution_count": 5,
   "id": "8ec59ff2-3097-4234-8adb-dde62255c8bf",
   "metadata": {},
   "outputs": [
    {
     "name": "stdin",
     "output_type": "stream",
     "text": [
      "Lütfen Şifrenizi Girin:  Mervee\n"
     ]
    },
    {
     "name": "stdout",
     "output_type": "stream",
     "text": [
      "Şifreniz geçersiz\n",
      "- Şifre en az 8 karakter olmalı\n",
      "- Şifre en az 1 rakam içermeli\n"
     ]
    }
   ],
   "source": [
    "# 3 - Şifre Kontrolü (String Metotları)\n",
    "\n",
    "sifre = input(\"Lütfen Şifrenizi Girin: \")\n",
    "\n",
    "uzunluk = len(sifre) >= 8\n",
    "buyuk_harf = False\n",
    "rakam = False\n",
    "\n",
    "for harf in sifre:\n",
    "    if harf.isupper():\n",
    "        buyuk_harf = True\n",
    "    if harf.isdigit():\n",
    "        rakam = True\n",
    "\n",
    "if uzunluk == True:\n",
    "    print(\"Şifreniz geçerli\")\n",
    "\n",
    "else:\n",
    "    print(\"Şifreniz geçersiz\")\n",
    "    if uzunluk == False:\n",
    "        print(\"- Şifre en az 8 karakter olmalı\")\n",
    "    if buyuk_harf == False:\n",
    "        print(\"- Şifre en az 1 büyük harf içermeli\")\n",
    "    if rakam == False:\n",
    "        print(\"- Şifre en az 1 rakam içermeli\")"
   ]
  },
  {
   "cell_type": "code",
   "execution_count": 6,
   "id": "2bc6f8da-779a-4859-9fe3-021a3bb115ec",
   "metadata": {},
   "outputs": [
    {
     "name": "stdout",
     "output_type": "stream",
     "text": [
      "Listenin Ortalaması: 15.0\n",
      "Listedeki Ortalamadan büyük sayılar [25, 30, 18]\n"
     ]
    }
   ],
   "source": [
    "# 4 - Liste İşlemleri\n",
    "\n",
    "myList = [12, 4, 9, 25, 30, 7, 18]\n",
    "\n",
    "toplam = 0\n",
    "for i in myList:\n",
    "    toplam += i\n",
    "\n",
    "ortalama = toplam / len(myList)\n",
    "print(f\"Listenin Ortalaması: {ortalama}\")\n",
    "\n",
    "buyukSayilar = []\n",
    "for sayi in myList:\n",
    "    if sayi > ortalama:\n",
    "        buyukSayilar.append(sayi)\n",
    "print(f\"Listedeki Ortalamadan büyük sayılar {buyukSayilar}\")"
   ]
  },
  {
   "cell_type": "code",
   "execution_count": 7,
   "id": "6ef6b62f-da70-4dec-b8dd-9afa7a94bbbe",
   "metadata": {},
   "outputs": [
    {
     "name": "stdout",
     "output_type": "stream",
     "text": [
      "*\n",
      "**\n",
      "***\n",
      "****\n",
      "*****\n"
     ]
    }
   ],
   "source": [
    "# 5 – Nested Loop (Desen)\n",
    "\n",
    "yildiz = 5\n",
    "\n",
    "for i in range(1, yildiz + 1):\n",
    "    for j in range(i):\n",
    "        print(\"*\", end=\"\")\n",
    "    print()"
   ]
  },
  {
   "cell_type": "code",
   "execution_count": 8,
   "id": "0ba8c3bc-6a24-4aca-a270-b61b2888d63d",
   "metadata": {},
   "outputs": [
    {
     "name": "stdin",
     "output_type": "stream",
     "text": [
      "Bir Sayı Giriniz:  5\n",
      "Bir Sayı Giriniz:  6\n",
      "Bir Sayı Giriniz:  3\n",
      "Bir Sayı Giriniz:  0\n"
     ]
    },
    {
     "name": "stdout",
     "output_type": "stream",
     "text": [
      "Girilen sayıların toplamı: 14\n",
      "Girilen sayıların ortalaması: 4.666666666666667\n"
     ]
    }
   ],
   "source": [
    "# 6 – While Döngüsü\n",
    "\n",
    "toplam = 0\n",
    "adet = 0\n",
    "\n",
    "while True:\n",
    "    sayi = int(input(\"Bir Sayı Giriniz: \"))\n",
    "    if sayi == 0:\n",
    "        break\n",
    "    toplam += sayi\n",
    "    adet += 1\n",
    "\n",
    "if adet > 0:\n",
    "    ortalama = toplam / adet\n",
    "    print(f\"Girilen sayıların toplamı: {toplam}\")\n",
    "    print(f\"Girilen sayıların ortalaması: {ortalama}\")\n",
    "else:\n",
    "    print(\"Toplanacak Bir Sayı Girmediniz.\")"
   ]
  },
  {
   "cell_type": "code",
   "execution_count": 9,
   "id": "78e2d721-9aa5-457c-9d8f-0f65a2166dea",
   "metadata": {},
   "outputs": [
    {
     "name": "stdin",
     "output_type": "stream",
     "text": [
      "Bir Kelime Giriniz:  Ege\n"
     ]
    },
    {
     "name": "stdout",
     "output_type": "stream",
     "text": [
      "Girilen Kelime Palindromdur.\n"
     ]
    }
   ],
   "source": [
    "# 7 – Palindrom Kontrolü\n",
    "\n",
    "kelime = str(input(\"Bir Kelime Giriniz: \"))\n",
    "kelime = kelime.upper()\n",
    "if kelime == kelime[::-1]:\n",
    "    print(\"Girilen Kelime Palindromdur.\")\n",
    "\n",
    "else:\n",
    "    print(\"Girilen Kelime Palindrom Değildir.\")"
   ]
  },
  {
   "cell_type": "code",
   "execution_count": 10,
   "id": "4ea5f8e5-6db5-460c-9cc1-9adc1d38a8c0",
   "metadata": {},
   "outputs": [
    {
     "name": "stdout",
     "output_type": "stream",
     "text": [
      "[225, 900, 2025, 3600, 5625, 8100]\n"
     ]
    }
   ],
   "source": [
    "# 8 – List Comprehension\n",
    "\n",
    "tamBolunenler = []\n",
    "\n",
    "for sayi in range(1,101):\n",
    "    if sayi%3 == 0 and sayi%5 ==0:\n",
    "        tamBolunenler.append(sayi**2)\n",
    "print(tamBolunenler)"
   ]
  },
  {
   "cell_type": "code",
   "execution_count": 11,
   "id": "f6075199-1535-4537-ad72-7defd14fe686",
   "metadata": {},
   "outputs": [
    {
     "name": "stdin",
     "output_type": "stream",
     "text": [
      "Lütfen Cümlenizi Giriniz:  ben merve çavuşoğlu, yazılım alanında kendimi geliştirmeye çalışıyorum.\n"
     ]
    },
    {
     "name": "stdout",
     "output_type": "stream",
     "text": [
      " Ben Merve Çavuşoğlu, Yazılım Alanında Kendimi Geliştirmeye Çalışıyorum.\n"
     ]
    }
   ],
   "source": [
    "# 9 – String İşlemleri\n",
    "\n",
    "buyukKelime = \"\"\n",
    "cumle = str(input(\"Lütfen Cümlenizi Giriniz: \"))\n",
    "kelimeler = cumle.split()\n",
    "for kelime in kelimeler:\n",
    "    buyukKelime += (\" \" + kelime.capitalize())\n",
    "print(buyukKelime)"
   ]
  },
  {
   "cell_type": "code",
   "execution_count": 12,
   "id": "562cb109-f3e8-4712-882a-b2e6f9d18b6f",
   "metadata": {},
   "outputs": [
    {
     "name": "stdout",
     "output_type": "stream",
     "text": [
      "\n",
      "    Kullanıcı Yorum Sayfasına Hoşgeldiniz.\n",
      "    Burada Yorum Yapabilir ve Yaptığınız Yorumları Analiz Edebilirsiniz.\n",
      "    Hazırsanız Başlayalım.\n",
      "    Unutmayın Yorum Eklemeden Çıkmak İçin q Harfine Basmanız Yeterli Olacaktır.\n",
      "    \n"
     ]
    },
    {
     "name": "stdin",
     "output_type": "stream",
     "text": [
      "Yorumunuzu Giriniz:  kötü bir filmdi.\n",
      "Yorumunuzu Giriniz:  iyi bir filmdi\n",
      "Yorumunuzu Giriniz:  berbattı\n",
      "Yorumunuzu Giriniz:  fena değildi\n",
      "Yorumunuzu Giriniz:  güzel bir filmdi, izlerken zevk aldım.\n",
      "Yorumunuzu Giriniz:  q\n"
     ]
    },
    {
     "name": "stdout",
     "output_type": "stream",
     "text": [
      "\n",
      "Toplam yorum sayısı: 5\n",
      "\"iyi\" kelimesi geçen yorum sayısı: 1\n",
      "\"kötü\" kelimesi geçen yorum sayısı: 1\n",
      "En uzun yorum: güzel bir filmdi, izlerken zevk aldım.\n",
      "En kısa yorum: berbattı\n",
      "Ortalama uzunluk: 17.6 karakter\n"
     ]
    }
   ],
   "source": [
    "# Mini Proje – Film Yorumu Analizi\n",
    "\n",
    "yorumlar = []\n",
    "print(\"\"\"\n",
    "    Kullanıcı Yorum Sayfasına Hoşgeldiniz.\n",
    "    Burada Yorum Yapabilir ve Yaptığınız Yorumları Analiz Edebilirsiniz.\n",
    "    Hazırsanız Başlayalım.\n",
    "    Unutmayın Yorum Eklemeden Çıkmak İçin q Harfine Basmanız Yeterli Olacaktır.\n",
    "    \"\"\")\n",
    "while True:\n",
    "    girdi = input(\"Yorumunuzu Giriniz: \")\n",
    "    if girdi == \"q\":\n",
    "        break\n",
    "    yorumlar.append(girdi)\n",
    "\n",
    "olumlu_yorum_say = 0\n",
    "olumsuz_yorum_say = 0\n",
    "toplam_uzunluk = 0\n",
    "uzun_yorum = \"\"\n",
    "kisa_yorum = \"\"\n",
    "\n",
    "if yorumlar:\n",
    "    uzun_yorum = kisa_yorum = yorumlar[0]\n",
    "\n",
    "    for yorum in yorumlar:\n",
    "        uzunluk = len(yorum)\n",
    "        toplam_uzunluk += uzunluk\n",
    "\n",
    "        if uzunluk > len(uzun_yorum):\n",
    "            uzun_yorum = yorum\n",
    "        if uzunluk < len(kisa_yorum):\n",
    "            kisa_yorum = yorum\n",
    "\n",
    "        if \"iyi\" in yorum.lower():\n",
    "            olumlu_yorum_say += 1\n",
    "\n",
    "        if \"kötü\" in yorum.lower():\n",
    "            olumsuz_yorum_say += 1\n",
    "\n",
    "    ortalama = toplam_uzunluk / len(yorumlar)\n",
    "\n",
    "    print(\"\\nToplam yorum sayısı:\", len(yorumlar))\n",
    "    print(\"\\\"iyi\\\" kelimesi geçen yorum sayısı:\", olumlu_yorum_say)\n",
    "    print(\"\\\"kötü\\\" kelimesi geçen yorum sayısı:\", olumsuz_yorum_say)\n",
    "    print(\"En uzun yorum:\", uzun_yorum)\n",
    "    print(\"En kısa yorum:\", kisa_yorum)\n",
    "    print(f\"Ortalama uzunluk: {ortalama:.1f} karakter\")\n",
    "else:\n",
    "    print(\"Hiç yorum girilmedi.\")"
   ]
  }
 ],
 "metadata": {
  "kernelspec": {
   "display_name": "Python [conda env:base] *",
   "language": "python",
   "name": "conda-base-py"
  },
  "language_info": {
   "codemirror_mode": {
    "name": "ipython",
    "version": 3
   },
   "file_extension": ".py",
   "mimetype": "text/x-python",
   "name": "python",
   "nbconvert_exporter": "python",
   "pygments_lexer": "ipython3",
   "version": "3.13.5"
  }
 },
 "nbformat": 4,
 "nbformat_minor": 5
}
