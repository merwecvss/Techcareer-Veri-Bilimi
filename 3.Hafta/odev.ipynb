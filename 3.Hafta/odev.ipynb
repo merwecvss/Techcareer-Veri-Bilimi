{
 "cells": [
  {
   "cell_type": "code",
   "execution_count": 8,
   "id": "initial_id",
   "metadata": {
    "jupyter": {
     "is_executing": true
    }
   },
   "outputs": [
    {
     "name": "stdout",
     "output_type": "stream",
     "text": [
      "[100, 92, 85, 76]\n",
      "76\n",
      "100\n",
      "[76, 85, 92, 100]\n"
     ]
    }
   ],
   "source": [
    "#1 – Liste Metotları\n",
    "\n",
    "notlar = [85, 92, 76, 92, 100, 76, 85, 92]\n",
    "x = set(notlar)\n",
    "liste = list(x)\n",
    "print(liste)\n",
    "print(min(liste))\n",
    "print(max(liste))\n",
    "liste.sort()\n",
    "print(liste)"
   ]
  },
  {
   "cell_type": "code",
   "execution_count": 14,
   "id": "7657add6-5b8d-42c0-b848-89c02bc5224c",
   "metadata": {},
   "outputs": [
    {
     "name": "stdout",
     "output_type": "stream",
     "text": [
      "True\n",
      "True\n",
      "False\n"
     ]
    }
   ],
   "source": [
    "# 2 – Sayılar\n",
    "def armstrong_mu(sayi):\n",
    "    toplam = 0\n",
    "    for basamak in str(sayi):\n",
    "        toplam += int(basamak) ** 3\n",
    "    return toplam == sayi\n",
    "\n",
    "print(armstrong_mu(153)) \n",
    "print(armstrong_mu(370)) \n",
    "print(armstrong_mu(123)) "
   ]
  },
  {
   "cell_type": "code",
   "execution_count": 37,
   "id": "a9426145-718a-400d-92ba-e5ea371791c7",
   "metadata": {},
   "outputs": [
    {
     "name": "stdout",
     "output_type": "stream",
     "text": [
      "{'SQL', 'Python'}\n",
      "{'R', 'Java'}\n",
      "['C++', 'Java', 'JavaScript', 'Python', 'R', 'SQL']\n"
     ]
    }
   ],
   "source": [
    "# 3 – Kümeler\n",
    "\n",
    "A = {\"Python\", \"R\", \"SQL\", \"Java\"}\n",
    "B = {\"C++\", \"Python\", \"JavaScript\", \"SQL\"}\n",
    "print(A.intersection(B))\n",
    "print(A.difference(B))\n",
    "(A.update(B))\n",
    "liste = list(A)\n",
    "print(sorted(liste))"
   ]
  },
  {
   "cell_type": "code",
   "execution_count": 40,
   "id": "4a6db883-c94a-4002-bab0-ff21f7b14987",
   "metadata": {},
   "outputs": [
    {
     "name": "stdout",
     "output_type": "stream",
     "text": [
      "Sayılar: [16, 97, 64, 6, 60, 95, 47, 85, 14, 80]\n",
      "Ortalama: 56.4\n",
      "Standart Sapma: 34.38733617029514\n"
     ]
    }
   ],
   "source": [
    "# 4 – Modüller\n",
    "\n",
    "import random\n",
    "import math \n",
    "\n",
    "sayilar = [random.randint(1, 100) for _ in range(10)]\n",
    "print(\"Sayılar:\", sayilar)\n",
    "\n",
    "ortalama = sum(sayilar) / len(sayilar)\n",
    "toplam_fark_kareleri = sum((x - ortalama) ** 2 for x in sayilar)\n",
    "std_sapma = math.sqrt(toplam_fark_kareleri / (len(sayilar) - 1))  # Örneklem std\n",
    "\n",
    "print(\"Ortalama:\", ortalama)\n",
    "print(\"Standart Sapma:\", std_sapma)\n"
   ]
  },
  {
   "cell_type": "code",
   "execution_count": 43,
   "id": "26d5800d-4c0b-4630-ad87-c667fcb14417",
   "metadata": {},
   "outputs": [
    {
     "name": "stdin",
     "output_type": "stream",
     "text": [
      "Cümlenizi Giriniz:  Python öğrenmek çok eğlenceli ve öğretici bir süreçtir. Python ile projeler yapmak keyiflidir.\n"
     ]
    },
    {
     "name": "stdout",
     "output_type": "stream",
     "text": [
      "Toplam kelime sayısı: 13\n",
      "En uzun kelime: keyiflidir.\n",
      "En sık geçen kelime: Python\n"
     ]
    }
   ],
   "source": [
    "# 5 – Fonksiyonlar\n",
    "\n",
    "def kelime_analizi(metin):\n",
    "    kelimeler = metin.split()\n",
    "    toplam_kelime = len(kelimeler)\n",
    "    en_uzun = max(kelimeler, key=len)\n",
    "    kelime_sayaci = {}\n",
    "    \n",
    "    for kelime in kelimeler:\n",
    "        if kelime in kelime_sayaci:\n",
    "            kelime_sayaci[kelime] += 1\n",
    "        else:\n",
    "            kelime_sayaci[kelime] = 1\n",
    "    \n",
    "    en_sik = max(kelime_sayaci, key=kelime_sayaci.get)\n",
    "    return toplam_kelime, en_uzun, en_sik\n",
    "\n",
    "metin = input(str(\"Cümlenizi Giriniz: \"))\n",
    "toplam, uzun, sik = kelime_analizi(metin)\n",
    "\n",
    "print(\"Toplam kelime sayısı:\", toplam)\n",
    "print(\"En uzun kelime:\", uzun)\n",
    "print(\"En sık geçen kelime:\", sik)\n"
   ]
  },
  {
   "cell_type": "code",
   "execution_count": 49,
   "id": "a70ec883-7d46-494d-bf67-aa2410717e24",
   "metadata": {},
   "outputs": [
    {
     "name": "stdout",
     "output_type": "stream",
     "text": [
      "[576, 324, 256, 144]\n"
     ]
    }
   ],
   "source": [
    "# 6 – Gömülü Fonksiyonlar\n",
    "\n",
    "sayilar = [5, 12, 7, 18, 24, 3, 16]\n",
    "ciftler = filter(lambda x: x % 2 == 0, sayilar)\n",
    "kareler = map(lambda x: x ** 2, ciftler)\n",
    "sirali = sorted(kareler, reverse=True)\n",
    "\n",
    "print(sirali)"
   ]
  },
  {
   "cell_type": "code",
   "execution_count": 51,
   "id": "5ac7efd0-7456-4475-aae6-8b7cb8170276",
   "metadata": {},
   "outputs": [
    {
     "name": "stdin",
     "output_type": "stream",
     "text": [
      "Bir Cümle Giriniz:  abc12def3\n"
     ]
    },
    {
     "name": "stdout",
     "output_type": "stream",
     "text": [
      "6\n"
     ]
    }
   ],
   "source": [
    "# 8 – Metodlar\n",
    "\n",
    "def rakam_toplami(metin):\n",
    "    toplam = 0\n",
    "    for karakter in metin:\n",
    "        if karakter.isdigit():         \n",
    "            toplam += int(karakter)     \n",
    "    return toplam\n",
    "\n",
    "metin = input(str(\"Bir Cümle Giriniz: \"))\n",
    "print(rakam_toplami(metin)) \n"
   ]
  },
  {
   "cell_type": "code",
   "execution_count": 52,
   "id": "979fe414-53b4-42b0-bb9f-306b078cf560",
   "metadata": {},
   "outputs": [
    {
     "name": "stdout",
     "output_type": "stream",
     "text": [
      "Dizi: [40 39 18 12 40 33 29 35 12 47]\n",
      "Ortalama: 30.5\n",
      "Standart Sapma: 11.80889495253472\n",
      "En büyük değer: 47\n"
     ]
    }
   ],
   "source": [
    "# 9 – (Ekstra) Numpy 1\n",
    "\n",
    "import numpy as np\n",
    "\n",
    "dizi = np.random.randint(0, 51, size=10)\n",
    "print(\"Dizi:\", dizi)\n",
    "ortalama = np.mean(dizi)\n",
    "std_sapma = np.std(dizi)\n",
    "en_buyuk = np.max(dizi)\n",
    "\n",
    "print(\"Ortalama:\", ortalama)\n",
    "print(\"Standart Sapma:\", std_sapma)\n",
    "print(\"En büyük değer:\", en_buyuk)\n"
   ]
  },
  {
   "cell_type": "code",
   "execution_count": 53,
   "id": "3bc3da04-af2b-43d4-afbe-84cac84154a9",
   "metadata": {},
   "outputs": [
    {
     "name": "stdout",
     "output_type": "stream",
     "text": [
      "Orijinal Matris:\n",
      " [[0.16482337 0.07813543 0.47045521 0.22268683 0.50594826]\n",
      " [0.20903826 0.41697848 0.75351868 0.35073273 0.78059582]\n",
      " [0.63583184 0.98760696 0.8674502  0.90316072 0.23375255]\n",
      " [0.73535112 0.66232733 0.71956008 0.52625791 0.68134509]\n",
      " [0.31001552 0.34324229 0.76288643 0.07117568 0.17456219]]\n",
      "\n",
      "Sütun Ortalamaları: [0.41101202 0.4976581  0.71477412 0.41480277 0.47524078]\n",
      "\n",
      "Binary Matris:\n",
      " [[0 0 0 0 1]\n",
      " [0 0 1 0 1]\n",
      " [1 1 1 1 0]\n",
      " [1 1 1 1 1]\n",
      " [0 0 1 0 0]]\n"
     ]
    }
   ],
   "source": [
    "# 10 – (Ekstra) Numpy 2\n",
    "\n",
    "import numpy as np\n",
    "\n",
    "matris = np.random.rand(5, 5)\n",
    "print(\"Orijinal Matris:\\n\", matris)\n",
    "sutun_ortalamalari = np.mean(matris, axis=0)\n",
    "print(\"\\nSütun Ortalamaları:\", sutun_ortalamalari)\n",
    "binary_matris = (matris > 0.5).astype(int)\n",
    "print(\"\\nBinary Matris:\\n\", binary_matris)\n"
   ]
  }
 ],
 "metadata": {
  "kernelspec": {
   "display_name": "Python [conda env:base] *",
   "language": "python",
   "name": "conda-base-py"
  },
  "language_info": {
   "codemirror_mode": {
    "name": "ipython",
    "version": 3
   },
   "file_extension": ".py",
   "mimetype": "text/x-python",
   "name": "python",
   "nbconvert_exporter": "python",
   "pygments_lexer": "ipython3",
   "version": "3.13.5"
  }
 },
 "nbformat": 4,
 "nbformat_minor": 5
}
