{
 "cells": [
  {
   "cell_type": "code",
   "execution_count": 1,
   "id": "af41263e-6dad-4cbf-ac7d-8c63710e9ee2",
   "metadata": {},
   "outputs": [
    {
     "name": "stdout",
     "output_type": "stream",
     "text": [
      "En çok satan kitap: Makine Öğrenmesi\n",
      "Yazar satışları: {'Ali': 3400, 'Ayşe': 1550, 'Can': 1800, 'Deniz': 400}\n",
      "Kitap türleri: {'Akademik', 'Sanat', 'Bilim', 'Sosyal'}\n",
      "1000’den fazla satan kitaplar: ['Veri Bilimi 101', 'Makine Öğrenmesi', 'Matematiksel Modelleme']\n",
      "Ortalama satış: 1021.4285714285714\n",
      "Standart sapma: 506.51\n",
      "En çok satış yapan tür: Bilim\n",
      "2020 sonrası kitaplar: ['Veri Bilimi 101', 'Makine Öğrenmesi', 'Matematiksel Modelleme', 'Bilgi Toplumu']\n",
      "Satışlar %10 artırılmış: [1320.0, 1045.0, 770.0000000000001, 1980.0000000000002, 440.00000000000006, 1650.0000000000002, 660.0]\n",
      "Satışa göre sıralanmış kitaplar: ['Makine Öğrenmesi', 'Matematiksel Modelleme', 'Veri Bilimi 101', 'Python ile Yapay Zeka', 'İstatistik Temelleri', 'Bilgi Toplumu', 'Veri Görselleştirme']\n",
      "\n",
      "Train/Test Simülasyonu:\n",
      "Train yazar ortalama satış: {'Deniz': 400.0, 'Ali': 950.0, 'Ayşe': 600.0}\n",
      "Test setinde ortalamanın üzerinde satış yapan kitaplar: ['Python ile Yapay Zeka', 'Makine Öğrenmesi', 'Matematiksel Modelleme']\n"
     ]
    }
   ],
   "source": [
    "import random\n",
    "import statistics\n",
    "\n",
    "kitaplar = [\n",
    "    {\"isim\": \"Veri Bilimi 101\", \"yazar\": \"Ali\", \"tur\": \"Bilim\", \"satis\": 1200, \"yil\": 2021},\n",
    "    {\"isim\": \"Python ile Yapay Zeka\", \"yazar\": \"Ayşe\", \"tur\": \"Bilim\", \"satis\": 950, \"yil\": 2020},\n",
    "    {\"isim\": \"İstatistik Temelleri\", \"yazar\": \"Ali\", \"tur\": \"Akademik\", \"satis\": 700, \"yil\": 2019},\n",
    "    {\"isim\": \"Makine Öğrenmesi\", \"yazar\": \"Can\", \"tur\": \"Bilim\", \"satis\": 1800, \"yil\": 2022},\n",
    "    {\"isim\": \"Veri Görselleştirme\", \"yazar\": \"Deniz\", \"tur\": \"Sanat\", \"satis\": 400, \"yil\": 2018},\n",
    "    {\"isim\": \"Matematiksel Modelleme\", \"yazar\": \"Ali\", \"tur\": \"Akademik\", \"satis\": 1500, \"yil\": 2021},\n",
    "    {\"isim\": \"Bilgi Toplumu\", \"yazar\": \"Ayşe\", \"tur\": \"Sosyal\", \"satis\": 600, \"yil\": 2022}\n",
    "]\n",
    "\n",
    "def en_cok_satan(kitaplar):\n",
    "    return max(kitaplar, key=lambda k: k['satis'])\n",
    "def yazar_satislari(kitaplar):\n",
    "    satis_dict = {}\n",
    "    for k in kitaplar:\n",
    "        satis_dict[k['yazar']] = satis_dict.get(k['yazar'], 0) + k['satis']\n",
    "    return satis_dict\n",
    "\n",
    "turler = {k['tur'] for k in kitaplar}  # Küme halinde türler\n",
    "fazla_satanlar = [k['isim'] for k in kitaplar if k['satis'] > 1000]  # 1000+ satış\n",
    "kitap_2020_sonrasi = list(filter(lambda k: k['yil'] > 2020, kitaplar))\n",
    "satis_artirilmis = list(map(lambda k: k['satis']*1.1, kitaplar))\n",
    "sirali_kitaplar = sorted(kitaplar, key=lambda k: k['satis'], reverse=True)\n",
    "satislar = [k['satis'] for k in kitaplar]\n",
    "ortalama_satis = statistics.mean(satislar)\n",
    "std_sapma = statistics.stdev(satislar)\n",
    "tur_satis = {}\n",
    "for k in kitaplar:\n",
    "    tur_satis[k['tur']] = tur_satis.get(k['tur'], 0) + k['satis']\n",
    "en_cok_satan_tur = max(tur_satis, key=tur_satis.get)\n",
    "train = random.sample(kitaplar, int(len(kitaplar)*0.7))\n",
    "test = [k for k in kitaplar if k not in train]\n",
    "train_yazar_satis = yazar_satislari(train)\n",
    "train_yazar_ortalama = {y: v/len([k for k in train if k['yazar']==y]) for y, v in train_yazar_satis.items()}\n",
    "ust_ortalama_kitaplar = []\n",
    "for k in test:\n",
    "    yazar = k['yazar']\n",
    "    ortalama = train_yazar_ortalama.get(yazar, 0)\n",
    "    if k['satis'] > ortalama:\n",
    "        ust_ortalama_kitaplar.append(k['isim'])\n",
    "\n",
    "print(\"En çok satan kitap:\", en_cok_satan(kitaplar)['isim'])\n",
    "print(\"Yazar satışları:\", yazar_satislari(kitaplar))\n",
    "print(\"Kitap türleri:\", turler)\n",
    "print(\"1000’den fazla satan kitaplar:\", fazla_satanlar)\n",
    "print(\"Ortalama satış:\", ortalama_satis)\n",
    "print(\"Standart sapma:\", round(std_sapma, 2))\n",
    "print(\"En çok satış yapan tür:\", en_cok_satan_tur)\n",
    "print(\"2020 sonrası kitaplar:\", [k['isim'] for k in kitap_2020_sonrasi])\n",
    "print(\"Satışlar %10 artırılmış:\", satis_artirilmis)\n",
    "print(\"Satışa göre sıralanmış kitaplar:\", [k['isim'] for k in sirali_kitaplar])\n",
    "print(\"\\nTrain/Test Simülasyonu:\")\n",
    "print(\"Train yazar ortalama satış:\", train_yazar_ortalama)\n",
    "print(\"Test setinde ortalamanın üzerinde satış yapan kitaplar:\", ust_ortalama_kitaplar)\n"
   ]
  },
  {
   "cell_type": "code",
   "execution_count": null,
   "id": "d1057676-b322-44c0-b9c5-e90d26951ef6",
   "metadata": {},
   "outputs": [],
   "source": []
  }
 ],
 "metadata": {
  "kernelspec": {
   "display_name": "Python [conda env:base] *",
   "language": "python",
   "name": "conda-base-py"
  },
  "language_info": {
   "codemirror_mode": {
    "name": "ipython",
    "version": 3
   },
   "file_extension": ".py",
   "mimetype": "text/x-python",
   "name": "python",
   "nbconvert_exporter": "python",
   "pygments_lexer": "ipython3",
   "version": "3.13.5"
  }
 },
 "nbformat": 4,
 "nbformat_minor": 5
}
